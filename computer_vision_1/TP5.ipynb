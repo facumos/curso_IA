{
 "cells": [
  {
   "cell_type": "code",
   "execution_count": 20,
   "metadata": {},
   "outputs": [],
   "source": [
    "#Si queremos que las imágenes sean mostradas en una ventana emergente quitar el inline\n",
    "%matplotlib inline\n",
    "# %matplotlib\n",
    "\n",
    "# OpenCV-Python utiliza NumPy para el manejo de imágenes\n",
    "import numpy as np\n",
    "# cv2 es el módulo python para acceder a OpenCV \n",
    "import cv2 as cv\n",
    "# Usamos las poderosas herramientas de graficación de matplotlib para mostrar imágenes, perfiles, histogramas, etc\n",
    "import matplotlib.pyplot as plt"
   ]
  },
  {
   "cell_type": "code",
   "execution_count": 21,
   "metadata": {},
   "outputs": [],
   "source": [
    "def selectROI(event,x,y,flags,param):\n",
    "    global frame, roiPts, inputMode\n",
    "    if inputMode and event == cv.EVENT_LBUTTONDOWN and len(roiPts)<4:\n",
    "        roiPts.append((x,y))\n",
    "        cv.circle(frame,(x,y),4,(0,255,0),2)\n",
    "        cv.imshow(\"frame\",frame)"
   ]
  },
  {
   "cell_type": "code",
   "execution_count": 22,
   "metadata": {},
   "outputs": [],
   "source": [
    "# Puntero al video\n",
    "\n",
    "cap = cv.VideoCapture(0)\n",
    "\n",
    "inputMode = 1\n",
    "\n",
    "\n",
    "# Tomamos el primer frame del video (donde vamos a definir la ROI)\n",
    "#-----------------------------------------------------------------\n",
    "ret,frame = cap.read()\n",
    "\n",
    "# Definimos la ubicación inical de la ventana de seguimiento\n",
    "#-----------------------------------------------------------\n",
    "# r,h,c,w - Región de la imagen (valores harcodeados)\n",
    "x, y, w, h = 10, 11, 10, 20\n",
    "track_window = (x, y, w, h)\n",
    "\n",
    "\n",
    "# Una vez definida la ROI recortamos esa parte de la imagen que utilizaremos para seguimiento\n",
    "#--------------------------------------------------------------------------------------------\n",
    "roiPts = frame[y:y+h, x:x+w]\n",
    "# Pasamos la ROI a HSV (los valores de H son más estables a cambios de intensidad)\n",
    "hsv_roi =  cv.cvtColor(roi, cv.COLOR_BGR2HSV)\n",
    "# Definimos una máscara para el histograma (Hue: 0..180, Saturation:60..255, Value:32..255)\n",
    "mask = cv.inRange(hsv_roi, np.array((0., 60.,32.)), np.array((180.,255.,255.)))\n",
    "# Y calculamos el histograma sobre esa máscara (toma solo el Hue: tonalidad)\n",
    "roi_hist = cv.calcHist([hsv_roi],[0],mask,[180],[0,180])\n",
    "# Normalizamos el histograma (entre 0 y 255 según indica el flag cv.NORM_MINMAX)\n",
    "cv.normalize(roi_hist,roi_hist,0,255,cv.NORM_MINMAX);"
   ]
  },
  {
   "cell_type": "code",
   "execution_count": 23,
   "metadata": {},
   "outputs": [],
   "source": [
    "# Condición de terminación: 10 iteraciones o moverse al menos 1pt\n",
    "#----------------------------------------------------------------\n",
    "term_crit = ( cv.TERM_CRITERIA_EPS | cv.TERM_CRITERIA_COUNT, 1, 10 )\n",
    "\n",
    "while(1):\n",
    "    ret, frame = cap.read()\n",
    "    if ret == True:\n",
    "        hsv = cv.cvtColor(frame, cv.COLOR_BGR2HSV)\n",
    "        dst = cv.calcBackProject([hsv],[0],roi_hist,[0,180],1)\n",
    "        \n",
    "        # Selección del ROI\n",
    "        #----------------------------------\n",
    "        flags = 1\n",
    "        param = 1\n",
    "        selectROI(cv.EVENT_LBUTTONDOWN,x,y,flags,param)\n",
    "        \n",
    "        # Aplicamos camshift al nuevo frame\n",
    "        #----------------------------------\n",
    "        ret, track_window = cv.CamShift(dst, track_window, term_crit)\n",
    "        \n",
    "        # Dibujamos la ventana sobre la imagen\n",
    "        #=====================================\n",
    "        \n",
    "        # Con escalamiento y rotación de la ventana de seguimiento\n",
    "        #---------------------------------------------------------\n",
    "        #pts = cv.boxPoints(ret)                      # Encuentra los 4 vértices del rectángulo rotado\n",
    "        #pts = np.int0(pts)                           # int0 (entero usado para indexado)\n",
    "        #img2 = cv.polylines(frame,[pts],True, 255,2) # Dibujo del rectángulo\n",
    "        \n",
    "        # Con escalamiento de ventana - Sin rotación\n",
    "        #-------------------------------------------\n",
    "        x,y,w,h = track_window\n",
    "        img2 = cv.rectangle(frame, (x,y), (x+w,y+h), 255,2)\n",
    "        \n",
    "        cv.imshow('Seguimiento',img2)\n",
    "        \n",
    "        k = cv.waitKey(30) & 0xff\n",
    "        if k == 27:\n",
    "            break\n",
    "    else:\n",
    "        break\n",
    "cv.destroyAllWindows()\n",
    "cap.release()"
   ]
  }
 ],
 "metadata": {
  "kernelspec": {
   "display_name": "Python 3",
   "language": "python",
   "name": "python3"
  },
  "language_info": {
   "codemirror_mode": {
    "name": "ipython",
    "version": 3
   },
   "file_extension": ".py",
   "mimetype": "text/x-python",
   "name": "python",
   "nbconvert_exporter": "python",
   "pygments_lexer": "ipython3",
   "version": "3.8.3"
  }
 },
 "nbformat": 4,
 "nbformat_minor": 4
}
