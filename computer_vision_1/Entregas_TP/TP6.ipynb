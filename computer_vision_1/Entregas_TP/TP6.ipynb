{
 "cells": [
  {
   "cell_type": "code",
   "execution_count": null,
   "metadata": {},
   "outputs": [],
   "source": [
    "import cv2 as cv\n",
    "import time"
   ]
  },
  {
   "cell_type": "code",
   "execution_count": null,
   "metadata": {},
   "outputs": [],
   "source": [
    "# Leemos los clasificadores pre-entrenados (instalados en cv2/data/haarcascades/)\n",
    "#--------------------------------------------------------------------------------\n",
    "face_cascade = cv.CascadeClassifier('C:\\\\Users\\\\Usuario\\Anaconda3\\Lib\\site-packages\\cv2\\data\\haarcascade_frontalface_default.xml')\n",
    "eye_cascade = cv.CascadeClassifier('C:\\\\Users\\\\Usuario\\Anaconda3\\Lib\\site-packages\\cv2\\data\\haarcascade_eye.xml')\n",
    "smile_cascade = cv.CascadeClassifier('C:\\\\Users\\\\Usuario\\Anaconda3\\Lib\\site-packages\\cv2\\data\\haarcascade_smile.xml')"
   ]
  },
  {
   "cell_type": "code",
   "execution_count": null,
   "metadata": {},
   "outputs": [],
   "source": [
    "# Cargamos la imagen a analizar\n",
    "#------------------------------\n",
    "cap = cv.VideoCapture(0)\n",
    "\n",
    "# Tomamos el primer frame del video (donde vamos a definir la ROI)\n",
    "#-----------------------------------------------------------------\n",
    "ret,originalImage = cap.read()\n",
    "\n",
    "# Pasamos la imagen a escala de grises\n",
    "#-------------------------------------\n",
    "grayImage = cv.cvtColor(originalImage, cv.COLOR_BGR2GRAY)\n",
    "grayImage = cv.equalizeHist(grayImage)\n",
    "\n",
    "# Llamamos al clasificador de Haar (AdaBoost)\n",
    "#--------------------------------------------\n",
    "#faces = face_cascade.detectMultiScale(grayImage, 1.012, 5)\n",
    "faces = face_cascade.detectMultiScale(grayImage, 1.1, 5)#, minSize= (100,130),maxSize=(200,400))\n",
    "\n",
    "# Recorro las caras encontradas\n",
    "#------------------------------\n",
    "for (x,y,w,h) in faces:\n",
    "    # Le dibujamos un rectángulo amarillo\n",
    "    cv.rectangle(originalImage,(x,y),(x+w,y+h),(255,255,0),2)\n",
    "    # Definimos las ROIs en la imagen gris y color\n",
    "    roi_gray = grayImage[y:y+h, x:x+w] \n",
    "    roi_color = originalImage[y:y+h, x:x+w] \n",
    "    # Para cada rostro hallado le buscamos los ojos y la sonrisa\n",
    "    eyes = eye_cascade.detectMultiScale(roi_gray)\n",
    "    smile = smile_cascade.detectMultiScale(roi_gray)\n",
    "    # A lo hallado le dibujamos rectángulos\n",
    "    for (ex,ey,ew,eh) in eyes:\n",
    "        cv.rectangle(roi_color,(ex,ey),(ex+ew,ey+eh),(0,255,0),2)\n",
    "    for (sx,sy,sw,sh) in smile:\n",
    "        cv.rectangle(roi_color,(sx,sy),(sx+sw,sy+sh),(0,0,255),2)\n",
    "    \n",
    "    \n",
    "cv.imshow('Detección de caras con filtros de Haar en cascada',originalImage) \n",
    "cv.waitKey(50)\n",
    "\n",
    "time.sleep(10) \n",
    "cv.destroyAllWindows()"
   ]
  },
  {
   "cell_type": "code",
   "execution_count": null,
   "metadata": {},
   "outputs": [],
   "source": []
  }
 ],
 "metadata": {
  "kernelspec": {
   "display_name": "Python 3",
   "language": "python",
   "name": "python3"
  },
  "language_info": {
   "codemirror_mode": {
    "name": "ipython",
    "version": 3
   },
   "file_extension": ".py",
   "mimetype": "text/x-python",
   "name": "python",
   "nbconvert_exporter": "python",
   "pygments_lexer": "ipython3",
   "version": "3.8.3"
  }
 },
 "nbformat": 4,
 "nbformat_minor": 4
}
