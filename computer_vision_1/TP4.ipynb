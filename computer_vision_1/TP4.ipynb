{
 "cells": [
  {
   "cell_type": "code",
   "execution_count": 118,
   "metadata": {},
   "outputs": [],
   "source": [
    "#Si queremos que las imágenes sean mostradas en una ventana emergente quitar el inline\n",
    "%matplotlib inline\n",
    "# %matplotlib\n",
    "\n",
    "# OpenCV-Python utiliza NumPy para el manejo de imágenes\n",
    "import numpy as np\n",
    "# cv2 es el módulo python para acceder a OpenCV \n",
    "import cv2 as cv\n",
    "# Usamos las poderosas herramientas de graficación de matplotlib para mostrar imágenes, perfiles, histogramas, etc\n",
    "import matplotlib.pyplot as plt"
   ]
  },
  {
   "cell_type": "code",
   "execution_count": 119,
   "metadata": {},
   "outputs": [],
   "source": [
    "def LBP_char(gray):\n",
    "    gray = gray.astype('float64') \n",
    "    gray_LBP = np.zeros(gray.shape)\n",
    "\n",
    "    for j in range(1,gray.shape[1]-1):\n",
    "        for i in range(1,gray.shape[0]-1):\n",
    "                x = ((gray[i,j]-gray[i,j-1])>=0)*2**0+((gray[i,j]-gray[i+1,j-1])>=0)*2**1+((gray[i,j]-gray[i+1,j])>=0)*2**2+((gray[i,j]-gray[i+1,j+1])>=0)*2**3+((gray[i,j]-gray[i,j+1])>=0)*2**4+((gray[i,j]-gray[i-1,j+1])>=0)*2**5+((gray[i,j]-gray[i-1,j])>=0)*2**6+((gray[i,j]-gray[i-1,j-1])>=0)*2**7\n",
    "                gray_LBP[i,j] = x\n",
    "#                 print(x)\n",
    "    return np.uint8(np.around(gray_LBP[1:298,1:298]))\n",
    "    "
   ]
  },
  {
   "cell_type": "code",
   "execution_count": 120,
   "metadata": {},
   "outputs": [
    {
     "data": {
      "image/png": "[encoded data removed]",
      "text/plain": [
       "<Figure size 432x288 with 1 Axes>"
      ]
     },
     "metadata": {
      "needs_background": "light"
     },
     "output_type": "display_data"
    }
   ],
   "source": [
    "# Extractor de carcacterísiticas LBP\n",
    "# ==================================\n",
    "\n",
    "# Piedras\n",
    "# =======\n",
    "img = cv.imread('TP4/piedras2.png')\n",
    "gray = cv.cvtColor(img,cv.COLOR_BGR2GRAY)\n",
    "cv.imshow('piedras1',gray)\n",
    "cv.waitKey(0)\n",
    "cv.destroyAllWindows()\n",
    "\n",
    "\n",
    "gray_LBP = LBP_char(gray)\n",
    "cv.imshow('piedras1',gray_LBP)\n",
    "cv.waitKey(0)\n",
    "cv.destroyAllWindows()\n",
    "\n",
    "plt.hist(gray_LBP.ravel(),256,[0,256]); plt.show()"
   ]
  },
  {
   "cell_type": "code",
   "execution_count": 121,
   "metadata": {},
   "outputs": [
    {
     "data": {
      "image/png": "[encoded data removed]",
      "text/plain": [
       "<Figure size 432x288 with 1 Axes>"
      ]
     },
     "metadata": {
      "needs_background": "light"
     },
     "output_type": "display_data"
    }
   ],
   "source": [
    "# Ladrillos\n",
    "# ==================================\n",
    "\n",
    "img = cv.imread('TP4/ladrillos1.png')\n",
    "gray = cv.cvtColor(img,cv.COLOR_BGR2GRAY)\n",
    "cv.imshow('piedras1',gray)\n",
    "cv.waitKey(0)\n",
    "cv.destroyAllWindows()\n",
    "\n",
    "gray_LBP = LBP_char(gray)\n",
    "# print(gray_LBP)\n",
    "cv.imshow('piedras1',gray_LBP)\n",
    "cv.waitKey(0)\n",
    "cv.destroyAllWindows()\n",
    "\n",
    "plt.hist(gray_LBP.ravel(),256,[0,256]); plt.show()"
   ]
  },
  {
   "cell_type": "code",
   "execution_count": 122,
   "metadata": {},
   "outputs": [
    {
     "data": {
      "image/png": "[encoded data removed]",
      "text/plain": [
       "<Figure size 432x288 with 1 Axes>"
      ]
     },
     "metadata": {
      "needs_background": "light"
     },
     "output_type": "display_data"
    }
   ],
   "source": [
    "# Ladrillos\n",
    "# ===========\n",
    "\n",
    "img = cv.imread('TP4/cielo.png')\n",
    "gray = cv.cvtColor(img,cv.COLOR_BGR2GRAY)\n",
    "cv.imshow('piedras1',gray)\n",
    "cv.waitKey(0)\n",
    "cv.destroyAllWindows()\n",
    "\n",
    "gray_LBP = LBP_char(gray)\n",
    "# print(gray_LBP)\n",
    "cv.imshow('piedras1',gray_LBP)\n",
    "cv.waitKey(0)\n",
    "cv.destroyAllWindows()\n",
    "\n",
    "plt.hist(gray_LBP.ravel(),256,[0,256]); plt.show()\n"
   ]
  },
  {
   "cell_type": "code",
   "execution_count": 123,
   "metadata": {},
   "outputs": [
    {
     "data": {
      "image/png": "[encoded data removed]",
      "text/plain": [
       "<Figure size 432x288 with 1 Axes>"
      ]
     },
     "metadata": {
      "needs_background": "light"
     },
     "output_type": "display_data"
    }
   ],
   "source": [
    "# Oveja\n",
    "# ===========\n",
    "\n",
    "img = cv.imread('TP4/oveja2.png')\n",
    "gray = cv.cvtColor(img,cv.COLOR_BGR2GRAY)\n",
    "cv.imshow('piedras1',gray)\n",
    "cv.waitKey(0)\n",
    "cv.destroyAllWindows()\n",
    "\n",
    "gray_LBP = LBP_char(gray)\n",
    "# print(gray_LBP)\n",
    "cv.imshow('piedras1',gray_LBP)\n",
    "cv.waitKey(0)\n",
    "cv.destroyAllWindows()\n",
    "\n",
    "plt.hist(gray_LBP.ravel(),256,[0,256]); plt.show()\n"
   ]
  }
 ],
 "metadata": {
  "kernelspec": {
   "display_name": "Python 3",
   "language": "python",
   "name": "python3"
  },
  "language_info": {
   "codemirror_mode": {
    "name": "ipython",
    "version": 3
   },
   "file_extension": ".py",
   "mimetype": "text/x-python",
   "name": "python",
   "nbconvert_exporter": "python",
   "pygments_lexer": "ipython3",
   "version": "3.8.3"
  }
 },
 "nbformat": 4,
 "nbformat_minor": 4
}
