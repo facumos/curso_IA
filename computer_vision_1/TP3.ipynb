{
 "cells": [
  {
   "cell_type": "code",
   "execution_count": 1,
   "metadata": {},
   "outputs": [],
   "source": [
    "#Si queremos que las imágenes sean mostradas en una ventana emergente quitar el inline\n",
    "%matplotlib inline\n",
    "# %matplotlib\n",
    "\n",
    "# OpenCV-Python utiliza NumPy para el manejo de imágenes\n",
    "import numpy as np\n",
    "# cv2 es el módulo python para acceder a OpenCV \n",
    "import cv2 as cv\n",
    "# Usamos las poderosas herramientas de graficación de matplotlib para mostrar imágenes, perfiles, histogramas, etc\n",
    "import matplotlib.pyplot as plt"
   ]
  },
  {
   "cell_type": "code",
   "execution_count": 2,
   "metadata": {},
   "outputs": [],
   "source": [
    "# Leemos la imagen\n",
    "#=================\n",
    "img = cv.imread('TP3/eyes.jpg')\n",
    "gray = cv.cvtColor(img,cv.COLOR_BGR2GRAY)\n",
    "\n",
    "\n",
    "# Suavizamos la imagen\n",
    "#=====================\n",
    "gray = cv.medianBlur(gray,5)\n",
    "# gray = cv.GaussianBlur(gray,(3,3),0)\n",
    "\n",
    "\n",
    "cv.imshow('eyes',gray)\n",
    "cv.waitKey(0)\n",
    "cv.destroyAllWindows()\n"
   ]
  },
  {
   "cell_type": "code",
   "execution_count": 3,
   "metadata": {},
   "outputs": [],
   "source": [
    "\n",
    "\n",
    "# Obtenemos los círculos por la transformada de Hough\n",
    "# (imagen en grises, método, flag de resolución del acumulador, dist mín entre centros de círculos\n",
    "# umbral alto de Canny, umbral del acumulador, radio_min, radio_max)\n",
    "#===================================================================\n",
    "img_out = img.copy()\n",
    "# circles = cv.HoughCircles(gray,cv.HOUGH_GRADIENT,1,minDist=150,param1=400,param2=1,minRadius=15,maxRadius=35)\n",
    "circles = cv.HoughCircles(gray,cv.HOUGH_GRADIENT,1,minDist=91,param1=170,param2=20,minRadius=20,maxRadius=35)\n",
    "\n",
    "circles = np.uint16(np.around(circles))\n",
    "for i in circles[0,:]:\n",
    "    # Dibujamos el círculo externo\n",
    "    cv.circle(img_out,(i[0],i[1]),i[2],(0,255,0),2)\n",
    "    # Dibujamos el centro del círculo\n",
    "    cv.circle(img_out,(i[0],i[1]),1,(0,0,255),3)\n",
    "cv.imshow('detected circles',img_out)\n",
    "cv.waitKey(0)\n",
    "cv.destroyAllWindows()\n",
    "\n",
    "\n",
    "\n",
    "\n",
    "\n"
   ]
  },
  {
   "cell_type": "code",
   "execution_count": 4,
   "metadata": {},
   "outputs": [
    {
     "name": "stdout",
     "output_type": "stream",
     "text": [
      "Distancias entre centros de Iris en orden de aparición de los ojos:\n",
      "305.0\n",
      "317.0\n",
      "307.0\n",
      "330.0\n",
      "332.0\n"
     ]
    }
   ],
   "source": [
    "circles = cv.HoughCircles(gray,cv.HOUGH_GRADIENT,1,minDist=91,param1=170,param2=20,minRadius=20,maxRadius=35)\n",
    "# print(circles)\n",
    "ord = np.argsort(circles[0,:,1])\n",
    "sort_circles = circles[:,ord,:]\n",
    "# print(sort_circles)\n",
    "x_coord = sort_circles[0,:,0]\n",
    "distance = np.zeros(x_coord.shape)\n",
    "rango = [0,2,4,6,8]\n",
    "print('Distancias entre centros de Iris en orden de aparición de los ojos:')\n",
    "for i in rango:\n",
    "    distance = np.abs(x_coord[i]-x_coord[i+1])\n",
    "    print(distance)\n",
    "    "
   ]
  },
  {
   "cell_type": "code",
   "execution_count": 5,
   "metadata": {},
   "outputs": [],
   "source": [
    "# Detección de Pupila\n",
    "#===================================================================\n",
    "img = cv.imread('TP3/eyes.jpg')\n",
    "gray = cv.cvtColor(img,cv.COLOR_BGR2GRAY)\n",
    "# gray = cv.GaussianBlur(gray,(5,5),0)\n",
    "gray = cv.medianBlur(gray,5)\n",
    "\n",
    "img_out = img.copy()\n",
    "# circles = cv.HoughCircles(gray,cv.HOUGH_GRADIENT,1,minDist=150,param1=400,param2=1,minRadius=15,maxRadius=35)\n",
    "circles = cv.HoughCircles(gray,cv.HOUGH_GRADIENT,1,minDist=20,param1=100,param2=15,minRadius=10,maxRadius=15)\n",
    "\n",
    "circles = np.uint16(np.around(circles))\n",
    "for i in circles[0,:]:\n",
    "    # Dibujamos el círculo externo \n",
    "    cv.circle(img_out,(i[0],i[1]),i[2],(0,255,0),2)\n",
    "    # Dibujamos el centro del círculo\n",
    "    cv.circle(img_out,(i[0],i[1]),1,(0,0,255),3)\n",
    "cv.imshow('detected circles',img_out)\n",
    "cv.waitKey(0)\n",
    "cv.destroyAllWindows()"
   ]
  },
  {
   "cell_type": "code",
   "execution_count": 6,
   "metadata": {},
   "outputs": [
    {
     "name": "stdout",
     "output_type": "stream",
     "text": [
      "Distancias entre centros de Pupilas en orden de aparición de los ojos:\n",
      "305.0\n",
      "317.0\n",
      "307.0\n",
      "329.0\n",
      "331.0\n"
     ]
    }
   ],
   "source": [
    "# Calculo de distancia entre pupilas\n",
    "#==================================\n",
    "circles = cv.HoughCircles(gray,cv.HOUGH_GRADIENT,1,minDist=20,param1=100,param2=15,minRadius=10,maxRadius=15)\n",
    "ord = np.argsort(circles[0,:,1])\n",
    "sort_circles = circles[:,ord,:]\n",
    "# print(sort_circles)\n",
    "x_coord = sort_circles[0,:,0]\n",
    "distance = np.zeros(x_coord.shape)\n",
    "rango = [0,2,4,6,8]\n",
    "print('Distancias entre centros de Pupilas en orden de aparición de los ojos:')\n",
    "for i in rango:\n",
    "    distance = np.abs(x_coord[i]-x_coord[i+1])\n",
    "    print(distance)"
   ]
  }
 ],
 "metadata": {
  "kernelspec": {
   "display_name": "Python 3",
   "language": "python",
   "name": "python3"
  },
  "language_info": {
   "codemirror_mode": {
    "name": "ipython",
    "version": 3
   },
   "file_extension": ".py",
   "mimetype": "text/x-python",
   "name": "python",
   "nbconvert_exporter": "python",
   "pygments_lexer": "ipython3",
   "version": "3.8.3"
  }
 },
 "nbformat": 4,
 "nbformat_minor": 4
}
